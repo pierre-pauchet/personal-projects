{
 "cells": [
  {
   "cell_type": "markdown",
   "metadata": {},
   "source": [
    "# **RNA Classification - Pierre Pauchet**\n",
    "\n",
    "# Setup"
   ]
  },
  {
   "cell_type": "markdown",
   "metadata": {},
   "source": [
    "Welcome to this notebook. This is a project I was assigned to complete during an interview process. \n",
    "\n",
    "The dataset is comprised of RNA-sequencing data taken from the blood of some thousand individuals, either healthy of suffering from rheumatoid arthrosis (RA) or Systemic Lupus Erythematosus (SLE) \\\n",
    "I was tasked to :\n",
    "* Create a machine learning model that predicts a patient diagnosis given an individual's RNA data. The model should classify RA vs SLE vs healthy patients.\n",
    "* Based on the predictive model I developed, determine which genes are main drivers of the diseases, and identify gene expression patterns leading to a higher chance of having each condition \\\n",
    "\n",
    "Keep in mind that the following project was completed in approximately **5-6 hours**."
   ]
  },
  {
   "cell_type": "code",
   "execution_count": 392,
   "metadata": {},
   "outputs": [],
   "source": [
    "## Dependencies\n",
    "import torch \n",
    "import gc\n",
    "import torch.nn as nn\n",
    "import matplotlib.pyplot as plt\n",
    "import numpy as np\n",
    "import pandas as pd\n",
    "from torchmetrics import F1Score\n",
    "from sklearn.ensemble import RandomForestClassifier\n",
    "from sklearn.utils.class_weight import compute_class_weight\n",
    "from sklearn.metrics import accuracy_score, confusion_matrix, precision_score, recall_score, ConfusionMatrixDisplay\n",
    "from scipy.stats import randint\n",
    "from sklearn.tree import export_graphviz\n",
    "from IPython.display import Image"
   ]
  },
  {
   "cell_type": "code",
   "execution_count": 393,
   "metadata": {},
   "outputs": [],
   "source": [
    "## Hyperparameters \n",
    "EPOCHS=200\n",
    "HIDDEN_UNITS=150\n",
    "CLASSES=3\n",
    "SEED=55\n",
    "LEARNING_RATE = 1e-4\n",
    "WEIGHT_DECAY = 1e-5"
   ]
  },
  {
   "cell_type": "code",
   "execution_count": 394,
   "metadata": {},
   "outputs": [],
   "source": [
    "## Device agnostic coding \n",
    "device = torch.device('cuda' if torch.cuda.is_available() else 'cpu')"
   ]
  },
  {
   "cell_type": "code",
   "execution_count": 395,
   "metadata": {},
   "outputs": [],
   "source": [
    "## Importing the data from raw files\n",
    "ra_train_data=pd.read_csv(\"ra_train_data.tsv\", sep= \"\\t\")\n",
    "ra_test_data=pd.read_csv(\"ra_test_data.tsv\", sep= \"\\t\")\n",
    "healthy_train_data=pd.read_csv(\"healthy_train_data.tsv\", sep= \"\\t\")\n",
    "healthy_test_data=pd.read_csv(\"healthy_test_data.tsv\", sep= \"\\t\")\n",
    "sle_test_data=pd.read_csv(\"sle_test_data.tsv\", sep= \"\\t\")\n",
    "sle_train_data=pd.read_csv(\"sle_train_data.tsv\", sep= \"\\t\")"
   ]
  },
  {
   "cell_type": "markdown",
   "metadata": {},
   "source": [
    "# Data Processing, cleaning and visualisation\n",
    "The first step in any data-driven project. Let us begin by labelling data. Healthy patients will be assigned the number 0, one that suffer respectively from RA and SLE will be assigned to 1 and 2."
   ]
  },
  {
   "cell_type": "code",
   "execution_count": 396,
   "metadata": {},
   "outputs": [
    {
     "data": {
      "text/html": [
       "<div>\n",
       "<style scoped>\n",
       "    .dataframe tbody tr th:only-of-type {\n",
       "        vertical-align: middle;\n",
       "    }\n",
       "\n",
       "    .dataframe tbody tr th {\n",
       "        vertical-align: top;\n",
       "    }\n",
       "\n",
       "    .dataframe thead th {\n",
       "        text-align: right;\n",
       "    }\n",
       "</style>\n",
       "<table border=\"1\" class=\"dataframe\">\n",
       "  <thead>\n",
       "    <tr style=\"text-align: right;\">\n",
       "      <th></th>\n",
       "      <th>Unnamed: 0</th>\n",
       "      <th>DDX11L1</th>\n",
       "      <th>WASH7P</th>\n",
       "      <th>MIR6859-1</th>\n",
       "      <th>MIR1302-2HG</th>\n",
       "      <th>MIR1302-2</th>\n",
       "      <th>FAM138A</th>\n",
       "      <th>OR4F5</th>\n",
       "      <th>WASH9P</th>\n",
       "      <th>LOC729737</th>\n",
       "      <th>...</th>\n",
       "      <th>TRNH</th>\n",
       "      <th>TRNS2</th>\n",
       "      <th>TRNL2</th>\n",
       "      <th>ND5</th>\n",
       "      <th>ND6</th>\n",
       "      <th>TRNE</th>\n",
       "      <th>CYTB</th>\n",
       "      <th>TRNT</th>\n",
       "      <th>TRNP</th>\n",
       "      <th>label</th>\n",
       "    </tr>\n",
       "  </thead>\n",
       "  <tbody>\n",
       "    <tr>\n",
       "      <th>0</th>\n",
       "      <td>GSE63755_GSM1556699</td>\n",
       "      <td>0.0</td>\n",
       "      <td>5.085</td>\n",
       "      <td>4.574</td>\n",
       "      <td>0.0</td>\n",
       "      <td>0.0</td>\n",
       "      <td>0.0</td>\n",
       "      <td>0.0</td>\n",
       "      <td>0.0</td>\n",
       "      <td>0.0</td>\n",
       "      <td>...</td>\n",
       "      <td>27.74</td>\n",
       "      <td>38.52</td>\n",
       "      <td>31.00</td>\n",
       "      <td>1016.0</td>\n",
       "      <td>1015.0</td>\n",
       "      <td>606.1</td>\n",
       "      <td>1110.0</td>\n",
       "      <td>64.89</td>\n",
       "      <td>120.30</td>\n",
       "      <td>2</td>\n",
       "    </tr>\n",
       "    <tr>\n",
       "      <th>1</th>\n",
       "      <td>GSE63755_GSM1556700</td>\n",
       "      <td>0.0</td>\n",
       "      <td>5.090</td>\n",
       "      <td>4.004</td>\n",
       "      <td>0.0</td>\n",
       "      <td>0.0</td>\n",
       "      <td>0.0</td>\n",
       "      <td>0.0</td>\n",
       "      <td>0.0</td>\n",
       "      <td>0.0</td>\n",
       "      <td>...</td>\n",
       "      <td>30.16</td>\n",
       "      <td>42.52</td>\n",
       "      <td>29.31</td>\n",
       "      <td>1389.0</td>\n",
       "      <td>1458.0</td>\n",
       "      <td>777.6</td>\n",
       "      <td>1715.0</td>\n",
       "      <td>83.09</td>\n",
       "      <td>135.60</td>\n",
       "      <td>2</td>\n",
       "    </tr>\n",
       "    <tr>\n",
       "      <th>2</th>\n",
       "      <td>GSE63755_GSM1556701</td>\n",
       "      <td>0.0</td>\n",
       "      <td>7.666</td>\n",
       "      <td>4.897</td>\n",
       "      <td>0.0</td>\n",
       "      <td>0.0</td>\n",
       "      <td>0.0</td>\n",
       "      <td>0.0</td>\n",
       "      <td>0.0</td>\n",
       "      <td>0.0</td>\n",
       "      <td>...</td>\n",
       "      <td>33.78</td>\n",
       "      <td>43.61</td>\n",
       "      <td>29.84</td>\n",
       "      <td>524.9</td>\n",
       "      <td>599.5</td>\n",
       "      <td>280.3</td>\n",
       "      <td>808.0</td>\n",
       "      <td>17.89</td>\n",
       "      <td>24.93</td>\n",
       "      <td>2</td>\n",
       "    </tr>\n",
       "    <tr>\n",
       "      <th>3</th>\n",
       "      <td>GSE63755_GSM1556702</td>\n",
       "      <td>0.0</td>\n",
       "      <td>4.574</td>\n",
       "      <td>3.967</td>\n",
       "      <td>0.0</td>\n",
       "      <td>0.0</td>\n",
       "      <td>0.0</td>\n",
       "      <td>0.0</td>\n",
       "      <td>0.0</td>\n",
       "      <td>0.0</td>\n",
       "      <td>...</td>\n",
       "      <td>51.72</td>\n",
       "      <td>68.58</td>\n",
       "      <td>49.68</td>\n",
       "      <td>1703.0</td>\n",
       "      <td>1660.0</td>\n",
       "      <td>946.3</td>\n",
       "      <td>1823.0</td>\n",
       "      <td>109.70</td>\n",
       "      <td>168.40</td>\n",
       "      <td>2</td>\n",
       "    </tr>\n",
       "    <tr>\n",
       "      <th>4</th>\n",
       "      <td>GSE63755_GSM1556703</td>\n",
       "      <td>0.0</td>\n",
       "      <td>6.321</td>\n",
       "      <td>4.730</td>\n",
       "      <td>0.0</td>\n",
       "      <td>0.0</td>\n",
       "      <td>0.0</td>\n",
       "      <td>0.0</td>\n",
       "      <td>0.0</td>\n",
       "      <td>0.0</td>\n",
       "      <td>...</td>\n",
       "      <td>40.86</td>\n",
       "      <td>49.07</td>\n",
       "      <td>35.98</td>\n",
       "      <td>1244.0</td>\n",
       "      <td>1258.0</td>\n",
       "      <td>700.1</td>\n",
       "      <td>1466.0</td>\n",
       "      <td>92.31</td>\n",
       "      <td>160.60</td>\n",
       "      <td>2</td>\n",
       "    </tr>\n",
       "  </tbody>\n",
       "</table>\n",
       "<p>5 rows × 37693 columns</p>\n",
       "</div>"
      ],
      "text/plain": [
       "            Unnamed: 0  DDX11L1  WASH7P  MIR6859-1  MIR1302-2HG  MIR1302-2  \\\n",
       "0  GSE63755_GSM1556699      0.0   5.085      4.574          0.0        0.0   \n",
       "1  GSE63755_GSM1556700      0.0   5.090      4.004          0.0        0.0   \n",
       "2  GSE63755_GSM1556701      0.0   7.666      4.897          0.0        0.0   \n",
       "3  GSE63755_GSM1556702      0.0   4.574      3.967          0.0        0.0   \n",
       "4  GSE63755_GSM1556703      0.0   6.321      4.730          0.0        0.0   \n",
       "\n",
       "   FAM138A  OR4F5  WASH9P  LOC729737  ...   TRNH  TRNS2  TRNL2     ND5  \\\n",
       "0      0.0    0.0     0.0        0.0  ...  27.74  38.52  31.00  1016.0   \n",
       "1      0.0    0.0     0.0        0.0  ...  30.16  42.52  29.31  1389.0   \n",
       "2      0.0    0.0     0.0        0.0  ...  33.78  43.61  29.84   524.9   \n",
       "3      0.0    0.0     0.0        0.0  ...  51.72  68.58  49.68  1703.0   \n",
       "4      0.0    0.0     0.0        0.0  ...  40.86  49.07  35.98  1244.0   \n",
       "\n",
       "      ND6   TRNE    CYTB    TRNT    TRNP  label  \n",
       "0  1015.0  606.1  1110.0   64.89  120.30      2  \n",
       "1  1458.0  777.6  1715.0   83.09  135.60      2  \n",
       "2   599.5  280.3   808.0   17.89   24.93      2  \n",
       "3  1660.0  946.3  1823.0  109.70  168.40      2  \n",
       "4  1258.0  700.1  1466.0   92.31  160.60      2  \n",
       "\n",
       "[5 rows x 37693 columns]"
      ]
     },
     "execution_count": 396,
     "metadata": {},
     "output_type": "execute_result"
    }
   ],
   "source": [
    "# Labelling our data\n",
    "ra_train_data[\"label\"]=1\n",
    "ra_test_data[\"label\"]=1\n",
    "healthy_train_data[\"label\"]=0\n",
    "healthy_test_data[\"label\"]=0\n",
    "sle_train_data[\"label\"]=2\n",
    "sle_test_data[\"label\"]=2\n",
    "sle_train_data.head()"
   ]
  },
  {
   "cell_type": "code",
   "execution_count": 397,
   "metadata": {},
   "outputs": [
    {
     "data": {
      "text/plain": [
       "(1, 1, 1, 1, 1, 1)"
      ]
     },
     "execution_count": 397,
     "metadata": {},
     "output_type": "execute_result"
    }
   ],
   "source": [
    "## Data Preprocessing and visualisation\n",
    "# Scanning for doublons \n",
    "np.max(ra_train_data.iloc[:,0].value_counts()), np.max(ra_test_data.iloc[:,0].value_counts()),np.max(healthy_train_data.iloc[:,0].value_counts()),np.max(healthy_test_data.iloc[:,0].value_counts()),np.max(sle_train_data.iloc[:,0].value_counts()),np.max(sle_test_data.iloc[:,0].value_counts())"
   ]
  },
  {
   "cell_type": "markdown",
   "metadata": {},
   "source": [
    "No doublons remain in the dataframe : all lines correspond to different samples"
   ]
  },
  {
   "cell_type": "code",
   "execution_count": 398,
   "metadata": {},
   "outputs": [
    {
     "name": "stdout",
     "output_type": "stream",
     "text": [
      "Train data | RA :(1587, 37693), Control :(302, 24405), SLE :(1332, 37693)\n",
      "Test data | RA :(330, 37693), Control :(100, 24405), SLE :(465, 37693)\n",
      "\n",
      "Filtered train data | RA :(1587, 24405), Control :(302, 24405), SLE :(1332, 24405)\n"
     ]
    }
   ],
   "source": [
    "# Checking the shapes of the data\n",
    "print(f'Train data | RA :{ra_train_data.shape}, Control :{healthy_train_data.shape}, SLE :{sle_train_data.shape}')\n",
    "print(f'Test data | RA :{ra_test_data.shape}, Control :{healthy_test_data.shape}, SLE :{sle_test_data.shape}')\n",
    "\n",
    "# Filtering on the common features\n",
    "ra_train_data.columns.difference(sle_train_data.columns) # Empty : these datasets are labelled identically\n",
    "inconsistent_features = ra_train_data.columns.difference(healthy_train_data.columns)\n",
    "ra_train_data = ra_train_data.drop(columns=inconsistent_features)\n",
    "ra_test_data = ra_test_data.drop(columns=inconsistent_features)\n",
    "sle_train_data = sle_train_data.drop(columns=inconsistent_features)\n",
    "sle_test_data = sle_test_data.drop(columns=inconsistent_features)\n",
    "print(f'\\nFiltered train data | RA :{ra_train_data.shape}, Control :{healthy_train_data.shape}, SLE :{sle_train_data.shape}')"
   ]
  },
  {
   "cell_type": "markdown",
   "metadata": {},
   "source": [
    "We have a few problems emerging from the data :\\\n",
    "-There are more features in certain classes than in others.\\\n",
    "-The number of features (~24000) is way greater than the number of samples (~3000 in the train data) : this is a classic albeit very important problem when it comes to building NN with medical data.\\\n",
    "-The classes aren't balanced (way more sick patients than control).\\\n",
    "-The data is not normalized : there are some columns full of zeros, and some with values reaching across 4 orders of magnitude. \n",
    "   \\\n",
    "First, we will normalize the data, then we will remedy the class imbalance, by allocating weights to classes."
   ]
  },
  {
   "cell_type": "code",
   "execution_count": 399,
   "metadata": {},
   "outputs": [
    {
     "data": {
      "text/html": [
       "<div>\n",
       "<style scoped>\n",
       "    .dataframe tbody tr th:only-of-type {\n",
       "        vertical-align: middle;\n",
       "    }\n",
       "\n",
       "    .dataframe tbody tr th {\n",
       "        vertical-align: top;\n",
       "    }\n",
       "\n",
       "    .dataframe thead th {\n",
       "        text-align: right;\n",
       "    }\n",
       "</style>\n",
       "<table border=\"1\" class=\"dataframe\">\n",
       "  <thead>\n",
       "    <tr style=\"text-align: right;\">\n",
       "      <th></th>\n",
       "      <th>Unnamed: 0</th>\n",
       "      <th>DDX11L1</th>\n",
       "      <th>WASH7P</th>\n",
       "      <th>MIR6859-1</th>\n",
       "      <th>MIR1302-2HG</th>\n",
       "      <th>FAM138A</th>\n",
       "      <th>OR4F5</th>\n",
       "      <th>MIR6859-2</th>\n",
       "      <th>OR4F29</th>\n",
       "      <th>OR4F16</th>\n",
       "      <th>...</th>\n",
       "      <th>DAZ3</th>\n",
       "      <th>DAZ4</th>\n",
       "      <th>BPY2C</th>\n",
       "      <th>TTTY4C</th>\n",
       "      <th>TTTY17C</th>\n",
       "      <th>GOLGA2P3Y</th>\n",
       "      <th>CDY1</th>\n",
       "      <th>TTTY3</th>\n",
       "      <th>REREP2Y</th>\n",
       "      <th>label</th>\n",
       "    </tr>\n",
       "  </thead>\n",
       "  <tbody>\n",
       "    <tr>\n",
       "      <th>0</th>\n",
       "      <td>GSE162828_GSM4962538</td>\n",
       "      <td>1.33</td>\n",
       "      <td>8.01200</td>\n",
       "      <td>6.153</td>\n",
       "      <td>0.0</td>\n",
       "      <td>0.0</td>\n",
       "      <td>0.0</td>\n",
       "      <td>4.615</td>\n",
       "      <td>0.0</td>\n",
       "      <td>0.0</td>\n",
       "      <td>...</td>\n",
       "      <td>0.0</td>\n",
       "      <td>0.0</td>\n",
       "      <td>0.0</td>\n",
       "      <td>0.0</td>\n",
       "      <td>0.0</td>\n",
       "      <td>0.0</td>\n",
       "      <td>0.0</td>\n",
       "      <td>0.0</td>\n",
       "      <td>0.0</td>\n",
       "      <td>2</td>\n",
       "    </tr>\n",
       "    <tr>\n",
       "      <th>1</th>\n",
       "      <td>GSE117769_GSM3308544</td>\n",
       "      <td>0.00</td>\n",
       "      <td>4.87700</td>\n",
       "      <td>1.057</td>\n",
       "      <td>0.0</td>\n",
       "      <td>0.0</td>\n",
       "      <td>0.0</td>\n",
       "      <td>1.057</td>\n",
       "      <td>0.0</td>\n",
       "      <td>0.0</td>\n",
       "      <td>...</td>\n",
       "      <td>0.0</td>\n",
       "      <td>0.0</td>\n",
       "      <td>0.0</td>\n",
       "      <td>0.0</td>\n",
       "      <td>0.0</td>\n",
       "      <td>0.0</td>\n",
       "      <td>0.0</td>\n",
       "      <td>0.0</td>\n",
       "      <td>0.0</td>\n",
       "      <td>1</td>\n",
       "    </tr>\n",
       "    <tr>\n",
       "      <th>2</th>\n",
       "      <td>Whole blood_GTEX-1R9JW-0002-SM-DO93B</td>\n",
       "      <td>0.00</td>\n",
       "      <td>1.44983</td>\n",
       "      <td>0.000</td>\n",
       "      <td>0.0</td>\n",
       "      <td>0.0</td>\n",
       "      <td>0.0</td>\n",
       "      <td>0.000</td>\n",
       "      <td>0.0</td>\n",
       "      <td>0.0</td>\n",
       "      <td>...</td>\n",
       "      <td>0.0</td>\n",
       "      <td>0.0</td>\n",
       "      <td>0.0</td>\n",
       "      <td>0.0</td>\n",
       "      <td>0.0</td>\n",
       "      <td>0.0</td>\n",
       "      <td>0.0</td>\n",
       "      <td>0.0</td>\n",
       "      <td>0.0</td>\n",
       "      <td>0</td>\n",
       "    </tr>\n",
       "    <tr>\n",
       "      <th>3</th>\n",
       "      <td>GSE157047_GSM4751513</td>\n",
       "      <td>0.00</td>\n",
       "      <td>1.23800</td>\n",
       "      <td>0.000</td>\n",
       "      <td>0.0</td>\n",
       "      <td>0.0</td>\n",
       "      <td>0.0</td>\n",
       "      <td>0.000</td>\n",
       "      <td>0.0</td>\n",
       "      <td>0.0</td>\n",
       "      <td>...</td>\n",
       "      <td>0.0</td>\n",
       "      <td>0.0</td>\n",
       "      <td>0.0</td>\n",
       "      <td>0.0</td>\n",
       "      <td>0.0</td>\n",
       "      <td>0.0</td>\n",
       "      <td>0.0</td>\n",
       "      <td>0.0</td>\n",
       "      <td>0.0</td>\n",
       "      <td>1</td>\n",
       "    </tr>\n",
       "    <tr>\n",
       "      <th>4</th>\n",
       "      <td>GSE164457_GSM5009833</td>\n",
       "      <td>0.00</td>\n",
       "      <td>9.13200</td>\n",
       "      <td>5.207</td>\n",
       "      <td>0.0</td>\n",
       "      <td>0.0</td>\n",
       "      <td>0.0</td>\n",
       "      <td>1.953</td>\n",
       "      <td>0.0</td>\n",
       "      <td>0.0</td>\n",
       "      <td>...</td>\n",
       "      <td>0.0</td>\n",
       "      <td>0.0</td>\n",
       "      <td>0.0</td>\n",
       "      <td>0.0</td>\n",
       "      <td>0.0</td>\n",
       "      <td>0.0</td>\n",
       "      <td>0.0</td>\n",
       "      <td>0.0</td>\n",
       "      <td>0.0</td>\n",
       "      <td>2</td>\n",
       "    </tr>\n",
       "  </tbody>\n",
       "</table>\n",
       "<p>5 rows × 24405 columns</p>\n",
       "</div>"
      ],
      "text/plain": [
       "                             Unnamed: 0  DDX11L1   WASH7P  MIR6859-1  \\\n",
       "0                  GSE162828_GSM4962538     1.33  8.01200      6.153   \n",
       "1                  GSE117769_GSM3308544     0.00  4.87700      1.057   \n",
       "2  Whole blood_GTEX-1R9JW-0002-SM-DO93B     0.00  1.44983      0.000   \n",
       "3                  GSE157047_GSM4751513     0.00  1.23800      0.000   \n",
       "4                  GSE164457_GSM5009833     0.00  9.13200      5.207   \n",
       "\n",
       "   MIR1302-2HG  FAM138A  OR4F5  MIR6859-2  OR4F29  OR4F16  ...  DAZ3  DAZ4  \\\n",
       "0          0.0      0.0    0.0      4.615     0.0     0.0  ...   0.0   0.0   \n",
       "1          0.0      0.0    0.0      1.057     0.0     0.0  ...   0.0   0.0   \n",
       "2          0.0      0.0    0.0      0.000     0.0     0.0  ...   0.0   0.0   \n",
       "3          0.0      0.0    0.0      0.000     0.0     0.0  ...   0.0   0.0   \n",
       "4          0.0      0.0    0.0      1.953     0.0     0.0  ...   0.0   0.0   \n",
       "\n",
       "   BPY2C  TTTY4C  TTTY17C  GOLGA2P3Y  CDY1  TTTY3  REREP2Y  label  \n",
       "0    0.0     0.0      0.0        0.0   0.0    0.0      0.0      2  \n",
       "1    0.0     0.0      0.0        0.0   0.0    0.0      0.0      1  \n",
       "2    0.0     0.0      0.0        0.0   0.0    0.0      0.0      0  \n",
       "3    0.0     0.0      0.0        0.0   0.0    0.0      0.0      1  \n",
       "4    0.0     0.0      0.0        0.0   0.0    0.0      0.0      2  \n",
       "\n",
       "[5 rows x 24405 columns]"
      ]
     },
     "execution_count": 399,
     "metadata": {},
     "output_type": "execute_result"
    }
   ],
   "source": [
    "## Concatenating and shuffling training data\n",
    "all_train_data=pd.concat((ra_train_data,sle_train_data,healthy_train_data),axis=0)\n",
    "all_train_data=all_train_data.sample(frac=1,random_state=SEED)\n",
    "all_train_data.index=np.arange(0,3221,1)\n",
    "\n",
    "all_test_data=pd.concat((ra_test_data,sle_test_data,healthy_test_data),axis=0)\n",
    "all_test_data=all_test_data.sample(frac=1,random_state=SEED)\n",
    "all_test_data.index=np.arange(0,895,1)\n",
    "gc.collect()\n",
    "all_train_data.head()"
   ]
  },
  {
   "cell_type": "code",
   "execution_count": 400,
   "metadata": {},
   "outputs": [
    {
     "name": "stdout",
     "output_type": "stream",
     "text": [
      "Train data shape: (3221, 10669)\n",
      "Test data shape: (895, 10669)\n"
     ]
    }
   ],
   "source": [
    "# Normalizing Data \n",
    "normalized_train_data = all_train_data.loc[:, (all_train_data.eq(0).sum(axis=0) < 2000)] # Remove mostly empty columns\n",
    "normalized_test_data = all_test_data.loc[:, (all_test_data.eq(0).sum(axis=0) < 500)]\n",
    "\n",
    "# Filtering on the common features\n",
    "inconsistent_features = normalized_train_data.columns.difference(normalized_test_data.columns)\n",
    "normalized_train_data = normalized_train_data.drop(columns=inconsistent_features)\n",
    "inconsistent_features = normalized_test_data.columns.difference(normalized_train_data.columns)\n",
    "normalized_test_data = normalized_test_data.drop(columns=inconsistent_features)\n",
    "normalized_train_data=normalized_train_data.iloc[:,1:]\n",
    "normalized_test_data=normalized_test_data.iloc[:,1:]\n",
    "\n",
    "# normalized_train_data = pd.concat([normalized_train_data,all_train_data.iloc[:,-1]],axis=1)\n",
    "# normalized_test_data = pd.concat([normalized_test_data,all_test_data.iloc[:,-1]],axis=1)\n",
    "print(\"Train data shape:\", normalized_train_data.shape)\n",
    "print(\"Test data shape:\", normalized_test_data.shape)"
   ]
  },
  {
   "cell_type": "markdown",
   "metadata": {},
   "source": [
    "We have removed almost 75% of the features, in particular empty (or mostly empty) columns. Our data still has too many features, we will optimize this down the line. \\\n",
    "Before this, let us address the class inequality in the train data : "
   ]
  },
  {
   "cell_type": "code",
   "execution_count": 401,
   "metadata": {},
   "outputs": [
    {
     "name": "stdout",
     "output_type": "stream",
     "text": [
      "Class weights: {0: 2.9833333333333334, 1: 0.9040404040404041, 2: 0.6415770609318996}\n"
     ]
    }
   ],
   "source": [
    "# Balancing class irregularities\n",
    "class_weights = compute_class_weight('balanced', classes=np.array([0, 1, 2]), y=all_test_data.iloc[:,-1])\n",
    "class_weight_dict = {i: class_weights[i] for i in range(len(class_weights))}\n",
    "print(\"Class weights:\", class_weight_dict)"
   ]
  },
  {
   "cell_type": "code",
   "execution_count": 402,
   "metadata": {},
   "outputs": [],
   "source": [
    "## Moving data to tensors\n",
    "def dataToTensor(df): # Helper function to transform data into tensors stocked on device\n",
    "    '''\n",
    "    moving data to tensor.\n",
    "    params:\n",
    "    -df: pd.Dataframe object\n",
    "    '''\n",
    "    features_tensor=torch.tensor(df.iloc[:,:-1].values, dtype=torch.float32, requires_grad=True)\n",
    "    labels_tensor=torch.tensor(df.iloc[:,-1].values, dtype=torch.int32, requires_grad=False).type(torch.LongTensor)\n",
    "    return features_tensor,labels_tensor \n",
    "\n",
    "X_train, Y_train = dataToTensor(normalized_train_data)\n",
    "X_train=X_train.to(device)\n",
    "Y_train= Y_train.to(device)\n",
    "X_test, Y_test = dataToTensor(normalized_test_data)\n",
    "X_test=X_test.to(device)\n",
    "Y_test=Y_test.to(device)"
   ]
  },
  {
   "cell_type": "markdown",
   "metadata": {},
   "source": [
    "# First example of a classifier : Random Forests \n",
    "Before diving in more complex models, we will use a simple random forest to derive more information on the dataset"
   ]
  },
  {
   "cell_type": "code",
   "execution_count": 403,
   "metadata": {},
   "outputs": [],
   "source": [
    "# Implementing a random forest \n",
    "rf = RandomForestClassifier(max_depth=20,n_estimators=484,class_weight='balanced') # see below for hyperparameter tuning\n",
    "rf.fit(X_train.detach().cpu().numpy(), Y_train.detach().cpu().numpy())\n",
    "y_pred= rf.predict(X_test.detach().cpu().numpy())"
   ]
  },
  {
   "cell_type": "code",
   "execution_count": 404,
   "metadata": {},
   "outputs": [
    {
     "name": "stdout",
     "output_type": "stream",
     "text": [
      "Accuracy :  0.6212290502793296\n"
     ]
    },
    {
     "data": {
      "image/png": "[encoded data removed]",
      "text/plain": [
       "<Figure size 640x480 with 2 Axes>"
      ]
     },
     "metadata": {},
     "output_type": "display_data"
    }
   ],
   "source": [
    "# Testing and visualising our random forest\n",
    "print('Accuracy : ',accuracy_score(Y_test.detach().cpu().numpy(),y_pred))\n",
    "cm = confusion_matrix(Y_test.detach().cpu().numpy(), y_pred)\n",
    "\n",
    "ConfusionMatrixDisplay(confusion_matrix=cm).plot();"
   ]
  },
  {
   "cell_type": "markdown",
   "metadata": {},
   "source": [
    "The accuracy score is good, and the confusion matrix gives us some interesting insight : the model classifies healthy patients and patients suffering from RA correctly everytime. However, the random forest missclassifies some of the 2(RA) dataset as 1 (SLE). This probably has to do with the high amount of features of the dataset that remain. "
   ]
  },
  {
   "cell_type": "code",
   "execution_count": 405,
   "metadata": {},
   "outputs": [
    {
     "data": {
      "text/plain": [
       "Index(['U2AF1', 'BCL2L2-PABPN1', 'SNORA31', 'SNURF', 'KRR1', 'CYP51A1',\n",
       "       'GTF2IP1', 'SNORA67', 'MATR3', 'MED4-AS1', 'MIR7703', 'SLX1A',\n",
       "       'SPATA21', 'RBM34', 'SNX32', 'PDIA3P1', 'AP3S2', 'TTLL3', 'B3GNT4',\n",
       "       'ATP1A1-AS1', 'ARL2BP', 'HBD', 'ERCC5', 'NBPF10', 'EZR-AS1', 'HBB',\n",
       "       'MIR3655', 'PYURF', 'BOLA2B', 'MIF', 'MIF-AS1', 'SULT1A3', 'MIR4761',\n",
       "       'RPL21P28', 'LINC00674', 'ATP6V1C2', 'WDR73', 'EGLN2', 'FEM1A', 'TRNT1',\n",
       "       'POLR2F', 'EIF3C', 'ZC3H11A', 'HNRNPA1P10', 'MIA2', 'MIR3064', 'SETD6',\n",
       "       'SLX1B', 'SMN2', 'HIF1A-AS2', 'MIR1244-3', 'POLR2J2', 'MEMO1',\n",
       "       'MIR3661', 'CNTD1', 'DDX47', 'MIR4721', 'PCBP2-OT1', 'SNORD81',\n",
       "       'MYCBP2-AS1', 'ARG2', 'ARG1', 'WDR83', 'MIR632', 'MIR5047', 'SMG1P5',\n",
       "       'RAD9B', 'SLC7A6OS', 'SYNC', 'LRRC75A', 'MGAT2', 'SNORD31', 'COX20',\n",
       "       'DEXI', 'GTF2H2B', 'GET4', 'EIF3CL', 'MRPL53', 'MEF2B', 'MLLT6',\n",
       "       'BORCS8', 'RNASEK', 'SULT1A4', 'CCZ1', 'RABGEF1', 'ATXN7L3', 'SMG1P2',\n",
       "       'MTIF2', 'ADGRG3', 'TATDN1', 'GNL3L', 'FANCL', 'STARD5', 'ZACN',\n",
       "       'GPSM3', 'USF2', 'PGLYRP1', 'NKIRAS1', 'PHKG1', 'PSMC3IP'],\n",
       "      dtype='object')"
      ]
     },
     "execution_count": 405,
     "metadata": {},
     "output_type": "execute_result"
    },
    {
     "data": {
      "image/png": "[encoded data removed]",
      "text/plain": [
       "<Figure size 640x480 with 1 Axes>"
      ]
     },
     "metadata": {},
     "output_type": "display_data"
    }
   ],
   "source": [
    "# Create a series containing feature importances from the model and feature names from the training data\n",
    "feature_importances = pd.Series(rf.feature_importances_, index=normalized_train_data.iloc[:,:-1].columns).sort_values(ascending=False)\n",
    "\n",
    "# Plot a simple bar chart\n",
    "feature_importances[:100].plot.bar();\n",
    "feature_importances.iloc[:100].index"
   ]
  },
  {
   "cell_type": "markdown",
   "metadata": {},
   "source": [
    "Let's try something new : we will keep the 50 most significant features from our RF, and try to see if the classification gets better when restricting our dataset to only these 50 columns. \\\n",
    "Keep in mind that this method is not perfect : we obtained the 50 features using a flawed dataset that tends to get our RF to missclassify. However, 50 features should be enough to mitigate this imperfection."
   ]
  },
  {
   "cell_type": "code",
   "execution_count": 406,
   "metadata": {},
   "outputs": [
    {
     "data": {
      "text/plain": [
       "torch.Size([895, 100])"
      ]
     },
     "execution_count": 406,
     "metadata": {},
     "output_type": "execute_result"
    }
   ],
   "source": [
    "best_features =feature_importances.iloc[:100].index.tolist()\n",
    "best_features.append('label')\n",
    "restricted_test_data=normalized_test_data.loc[:,best_features]\n",
    "restricted_train_data=normalized_train_data.loc[:,best_features]\n",
    "\n",
    "X_train, Y_train = dataToTensor(restricted_train_data)\n",
    "X_train=X_train.to(device)\n",
    "Y_train= Y_train.to(device)\n",
    "X_test, Y_test = dataToTensor(restricted_test_data)\n",
    "X_test=X_test.to(device)\n",
    "Y_test=Y_test.to(device)\n",
    "X_test.shape"
   ]
  },
  {
   "cell_type": "code",
   "execution_count": 407,
   "metadata": {},
   "outputs": [],
   "source": [
    "# Implementing a random forest \n",
    "rf = RandomForestClassifier(max_depth=20,n_estimators=492,class_weight=class_weight_dict) # see below for hyperparameter tuning\n",
    "rf.fit(X_train.detach().cpu().numpy(), Y_train.detach().cpu().numpy())\n",
    "y_pred= rf.predict(X_test.detach().cpu().numpy())"
   ]
  },
  {
   "cell_type": "code",
   "execution_count": 408,
   "metadata": {},
   "outputs": [
    {
     "name": "stdout",
     "output_type": "stream",
     "text": [
      "Accuracy :  0.524022346368715\n"
     ]
    },
    {
     "data": {
      "image/png": "[encoded data removed]",
      "text/plain": [
       "<Figure size 640x480 with 2 Axes>"
      ]
     },
     "metadata": {},
     "output_type": "display_data"
    }
   ],
   "source": [
    "# Testing and visualising our random forest\n",
    "print('Accuracy : ',accuracy_score(Y_test.detach().cpu().numpy(),y_pred))\n",
    "cm = confusion_matrix(Y_test.detach().cpu().numpy(), y_pred)\n",
    "\n",
    "ConfusionMatrixDisplay(confusion_matrix=cm).plot();"
   ]
  },
  {
   "cell_type": "markdown",
   "metadata": {},
   "source": [
    "Very interesting ! Our random forest seems to fare even worse when restricted to fewer features, when it comes to classifying SLE patients. To better understand this tendency, we could implement class-specific feature importance "
   ]
  },
  {
   "cell_type": "code",
   "execution_count": 409,
   "metadata": {},
   "outputs": [],
   "source": [
    "# # Create a series containing feature importances from the model and feature names from the training data\n",
    "# feature_importances = pd.Series(rf.feature_importances_, index=normalized_train_data.iloc[:,:-1].columns).sort_values(ascending=False)\n",
    "\n",
    "# # Plot a simple bar chart\n",
    "# feature_importances[:10].plot.bar();\n",
    "# feature_importances.iloc[:10].index"
   ]
  },
  {
   "cell_type": "code",
   "execution_count": 410,
   "metadata": {},
   "outputs": [],
   "source": [
    "# # Hyperparameters tuning \n",
    "# param_dist = {'n_estimators': randint(300,500),\n",
    "#               'max_depth': randint(1,20)}\n",
    "# # Use random search to find the best hyperparameters\n",
    "# rand_search = RandomizedSearchCV(rf, \n",
    "#                                  param_distributions = param_dist, \n",
    "#                                  n_iter=10, \n",
    "#                                  cv=5)\n",
    "\n",
    "# # Fit the random search object to the data\n",
    "# rand_search.fit(X_train.detach().cpu().numpy(), Y_train.detach().cpu().numpy())\n",
    "# # Create a variable for the best model\n",
    "# best_rf = rand_search.best_estimator_\n",
    "\n",
    "# # Print the best hyperparameters\n",
    "# print('Best hyperparameters:',  rand_search.best_params_)\n",
    "\n"
   ]
  },
  {
   "cell_type": "markdown",
   "metadata": {},
   "source": [
    "# Model designing and training\n",
    "\n",
    "Now, we can try to address this problem using a more complex model : a pytorch neural network."
   ]
  },
  {
   "cell_type": "code",
   "execution_count": 422,
   "metadata": {},
   "outputs": [],
   "source": [
    "# Resetting X and Y \n",
    "X_train, Y_train = dataToTensor(normalized_train_data)\n",
    "X_train=X_train.to(device)\n",
    "Y_train= Y_train.to(device)\n",
    "X_test, Y_test = dataToTensor(normalized_test_data)\n",
    "X_test=X_test.to(device)\n",
    "Y_test=Y_test.to(device)"
   ]
  },
  {
   "cell_type": "code",
   "execution_count": 423,
   "metadata": {},
   "outputs": [],
   "source": [
    "## Defining our nn model class\n",
    "class ClassificationModel(nn.Module):\n",
    "    def __init__(self,input_features:int,output_features:int):\n",
    "        super().__init__()\n",
    "        self.layers=nn.Sequential(nn.Linear(in_features=input_features,out_features=HIDDEN_UNITS,device=device),\n",
    "                              nn.ReLU(),\n",
    "                              nn.Linear(in_features=HIDDEN_UNITS,out_features=HIDDEN_UNITS,device=device),\n",
    "                              nn.ReLU(),\n",
    "                              nn.Dropout(0.5),\n",
    "                              nn.Linear(in_features=HIDDEN_UNITS,out_features=HIDDEN_UNITS,device=device),\n",
    "                              nn.ReLU(),\n",
    "                              nn.Linear(in_features=HIDDEN_UNITS,out_features=output_features,device=device)\n",
    "                              )\n",
    "    def forward(self,x):\n",
    "        return self.layers(x)   \n",
    "\n",
    "model=ClassificationModel(input_features=len(X_train[1]),output_features=CLASSES).to(device)"
   ]
  },
  {
   "cell_type": "code",
   "execution_count": 424,
   "metadata": {},
   "outputs": [],
   "source": [
    "## Neural Network functions\n",
    "loss_fn=nn.CrossEntropyLoss(weight=torch.tensor(class_weights,dtype=torch.float32).to(device))\n",
    "optimizer=torch.optim.SGD(model.parameters(),LEARNING_RATE,WEIGHT_DECAY)\n",
    "def accuracy_fn(y_true, y_pred): \n",
    "    correct = torch.eq(y_true, y_pred).sum().item()\n",
    "    acc = (correct / len(y_pred)) * 100 \n",
    "    return acc"
   ]
  },
  {
   "cell_type": "code",
   "execution_count": 425,
   "metadata": {},
   "outputs": [
    {
     "name": "stdout",
     "output_type": "stream",
     "text": [
      "Epoch: 0 | Loss: 70.66457, Acc: 43.65% | Test Loss: 29.34372, Test Acc: 24.02%\n",
      "Epoch: 10 | Loss: 4.98213, Acc: 59.27% | Test Loss: 0.54006, Test Acc: 63.13%\n",
      "Epoch: 20 | Loss: 1.82542, Acc: 68.33% | Test Loss: 0.38801, Test Acc: 70.28%\n",
      "Epoch: 30 | Loss: 1.33764, Acc: 71.59% | Test Loss: 0.37197, Test Acc: 69.83%\n",
      "Epoch: 40 | Loss: 0.84391, Acc: 73.30% | Test Loss: 0.37102, Test Acc: 69.50%\n",
      "Epoch: 50 | Loss: 0.80129, Acc: 75.35% | Test Loss: 0.36346, Test Acc: 68.60%\n",
      "Epoch: 60 | Loss: 0.57162, Acc: 78.48% | Test Loss: 0.36125, Test Acc: 69.05%\n",
      "Epoch: 70 | Loss: 0.55329, Acc: 79.70% | Test Loss: 0.38896, Test Acc: 67.49%\n",
      "Epoch: 80 | Loss: 0.44568, Acc: 81.00% | Test Loss: 0.38419, Test Acc: 68.16%\n",
      "Epoch: 90 | Loss: 0.48137, Acc: 79.70% | Test Loss: 0.40572, Test Acc: 67.37%\n",
      "Epoch: 100 | Loss: 0.44276, Acc: 81.09% | Test Loss: 0.40069, Test Acc: 67.37%\n",
      "Epoch: 110 | Loss: 0.33335, Acc: 83.24% | Test Loss: 0.38857, Test Acc: 69.27%\n",
      "Epoch: 120 | Loss: 0.34581, Acc: 84.04% | Test Loss: 0.42215, Test Acc: 67.26%\n",
      "Epoch: 130 | Loss: 0.31603, Acc: 85.28% | Test Loss: 0.41835, Test Acc: 67.60%\n",
      "Epoch: 140 | Loss: 0.31318, Acc: 85.66% | Test Loss: 0.45457, Test Acc: 66.59%\n",
      "Epoch: 150 | Loss: 0.38008, Acc: 82.83% | Test Loss: 0.45530, Test Acc: 66.93%\n",
      "Epoch: 160 | Loss: 0.29750, Acc: 85.25% | Test Loss: 0.45482, Test Acc: 67.26%\n",
      "Epoch: 170 | Loss: 0.26993, Acc: 86.43% | Test Loss: 0.47118, Test Acc: 67.04%\n",
      "Epoch: 180 | Loss: 0.26771, Acc: 86.84% | Test Loss: 0.47960, Test Acc: 67.15%\n",
      "Epoch: 190 | Loss: 0.27493, Acc: 87.27% | Test Loss: 0.48110, Test Acc: 66.70%\n",
      "Epoch: 200 | Loss: 0.24315, Acc: 87.18% | Test Loss: 0.50366, Test Acc: 66.48%\n",
      "Epoch: 210 | Loss: 0.23349, Acc: 88.14% | Test Loss: 0.50659, Test Acc: 67.04%\n",
      "Epoch: 220 | Loss: 0.27698, Acc: 86.15% | Test Loss: 0.49964, Test Acc: 67.26%\n",
      "Epoch: 230 | Loss: 0.26689, Acc: 87.36% | Test Loss: 0.49276, Test Acc: 67.26%\n",
      "Epoch: 240 | Loss: 0.26320, Acc: 86.93% | Test Loss: 0.47846, Test Acc: 67.93%\n"
     ]
    },
    {
     "ename": "KeyboardInterrupt",
     "evalue": "",
     "output_type": "error",
     "traceback": [
      "\u001b[1;31m---------------------------------------------------------------------------\u001b[0m",
      "\u001b[1;31mKeyboardInterrupt\u001b[0m                         Traceback (most recent call last)",
      "Cell \u001b[1;32mIn[425], line 9\u001b[0m\n\u001b[0;32m      7\u001b[0m acc \u001b[38;5;241m=\u001b[39m accuracy_fn(y_true\u001b[38;5;241m=\u001b[39mY_train,y_pred\u001b[38;5;241m=\u001b[39my_pred)\n\u001b[0;32m      8\u001b[0m optimizer\u001b[38;5;241m.\u001b[39mzero_grad()\n\u001b[1;32m----> 9\u001b[0m \u001b[43mloss\u001b[49m\u001b[38;5;241;43m.\u001b[39;49m\u001b[43mbackward\u001b[49m\u001b[43m(\u001b[49m\u001b[43m)\u001b[49m\n\u001b[0;32m     10\u001b[0m optimizer\u001b[38;5;241m.\u001b[39mstep()\n\u001b[0;32m     12\u001b[0m \u001b[38;5;66;03m##Testing\u001b[39;00m\n",
      "File \u001b[1;32m~\\AppData\\Local\\Packages\\PythonSoftwareFoundation.Python.3.12_qbz5n2kfra8p0\\LocalCache\\local-packages\\Python312\\site-packages\\torch\\_tensor.py:521\u001b[0m, in \u001b[0;36mTensor.backward\u001b[1;34m(self, gradient, retain_graph, create_graph, inputs)\u001b[0m\n\u001b[0;32m    511\u001b[0m \u001b[38;5;28;01mif\u001b[39;00m has_torch_function_unary(\u001b[38;5;28mself\u001b[39m):\n\u001b[0;32m    512\u001b[0m     \u001b[38;5;28;01mreturn\u001b[39;00m handle_torch_function(\n\u001b[0;32m    513\u001b[0m         Tensor\u001b[38;5;241m.\u001b[39mbackward,\n\u001b[0;32m    514\u001b[0m         (\u001b[38;5;28mself\u001b[39m,),\n\u001b[1;32m   (...)\u001b[0m\n\u001b[0;32m    519\u001b[0m         inputs\u001b[38;5;241m=\u001b[39minputs,\n\u001b[0;32m    520\u001b[0m     )\n\u001b[1;32m--> 521\u001b[0m \u001b[43mtorch\u001b[49m\u001b[38;5;241;43m.\u001b[39;49m\u001b[43mautograd\u001b[49m\u001b[38;5;241;43m.\u001b[39;49m\u001b[43mbackward\u001b[49m\u001b[43m(\u001b[49m\n\u001b[0;32m    522\u001b[0m \u001b[43m    \u001b[49m\u001b[38;5;28;43mself\u001b[39;49m\u001b[43m,\u001b[49m\u001b[43m \u001b[49m\u001b[43mgradient\u001b[49m\u001b[43m,\u001b[49m\u001b[43m \u001b[49m\u001b[43mretain_graph\u001b[49m\u001b[43m,\u001b[49m\u001b[43m \u001b[49m\u001b[43mcreate_graph\u001b[49m\u001b[43m,\u001b[49m\u001b[43m \u001b[49m\u001b[43minputs\u001b[49m\u001b[38;5;241;43m=\u001b[39;49m\u001b[43minputs\u001b[49m\n\u001b[0;32m    523\u001b[0m \u001b[43m\u001b[49m\u001b[43m)\u001b[49m\n",
      "File \u001b[1;32m~\\AppData\\Local\\Packages\\PythonSoftwareFoundation.Python.3.12_qbz5n2kfra8p0\\LocalCache\\local-packages\\Python312\\site-packages\\torch\\autograd\\__init__.py:289\u001b[0m, in \u001b[0;36mbackward\u001b[1;34m(tensors, grad_tensors, retain_graph, create_graph, grad_variables, inputs)\u001b[0m\n\u001b[0;32m    284\u001b[0m     retain_graph \u001b[38;5;241m=\u001b[39m create_graph\n\u001b[0;32m    286\u001b[0m \u001b[38;5;66;03m# The reason we repeat the same comment below is that\u001b[39;00m\n\u001b[0;32m    287\u001b[0m \u001b[38;5;66;03m# some Python versions print out the first line of a multi-line function\u001b[39;00m\n\u001b[0;32m    288\u001b[0m \u001b[38;5;66;03m# calls in the traceback and some print out the last line\u001b[39;00m\n\u001b[1;32m--> 289\u001b[0m \u001b[43m_engine_run_backward\u001b[49m\u001b[43m(\u001b[49m\n\u001b[0;32m    290\u001b[0m \u001b[43m    \u001b[49m\u001b[43mtensors\u001b[49m\u001b[43m,\u001b[49m\n\u001b[0;32m    291\u001b[0m \u001b[43m    \u001b[49m\u001b[43mgrad_tensors_\u001b[49m\u001b[43m,\u001b[49m\n\u001b[0;32m    292\u001b[0m \u001b[43m    \u001b[49m\u001b[43mretain_graph\u001b[49m\u001b[43m,\u001b[49m\n\u001b[0;32m    293\u001b[0m \u001b[43m    \u001b[49m\u001b[43mcreate_graph\u001b[49m\u001b[43m,\u001b[49m\n\u001b[0;32m    294\u001b[0m \u001b[43m    \u001b[49m\u001b[43minputs\u001b[49m\u001b[43m,\u001b[49m\n\u001b[0;32m    295\u001b[0m \u001b[43m    \u001b[49m\u001b[43mallow_unreachable\u001b[49m\u001b[38;5;241;43m=\u001b[39;49m\u001b[38;5;28;43;01mTrue\u001b[39;49;00m\u001b[43m,\u001b[49m\n\u001b[0;32m    296\u001b[0m \u001b[43m    \u001b[49m\u001b[43maccumulate_grad\u001b[49m\u001b[38;5;241;43m=\u001b[39;49m\u001b[38;5;28;43;01mTrue\u001b[39;49;00m\u001b[43m,\u001b[49m\n\u001b[0;32m    297\u001b[0m \u001b[43m\u001b[49m\u001b[43m)\u001b[49m\n",
      "File \u001b[1;32m~\\AppData\\Local\\Packages\\PythonSoftwareFoundation.Python.3.12_qbz5n2kfra8p0\\LocalCache\\local-packages\\Python312\\site-packages\\torch\\autograd\\graph.py:769\u001b[0m, in \u001b[0;36m_engine_run_backward\u001b[1;34m(t_outputs, *args, **kwargs)\u001b[0m\n\u001b[0;32m    767\u001b[0m     unregister_hooks \u001b[38;5;241m=\u001b[39m _register_logging_hooks_on_whole_graph(t_outputs)\n\u001b[0;32m    768\u001b[0m \u001b[38;5;28;01mtry\u001b[39;00m:\n\u001b[1;32m--> 769\u001b[0m     \u001b[38;5;28;01mreturn\u001b[39;00m \u001b[43mVariable\u001b[49m\u001b[38;5;241;43m.\u001b[39;49m\u001b[43m_execution_engine\u001b[49m\u001b[38;5;241;43m.\u001b[39;49m\u001b[43mrun_backward\u001b[49m\u001b[43m(\u001b[49m\u001b[43m  \u001b[49m\u001b[38;5;66;43;03m# Calls into the C++ engine to run the backward pass\u001b[39;49;00m\n\u001b[0;32m    770\u001b[0m \u001b[43m        \u001b[49m\u001b[43mt_outputs\u001b[49m\u001b[43m,\u001b[49m\u001b[43m \u001b[49m\u001b[38;5;241;43m*\u001b[39;49m\u001b[43margs\u001b[49m\u001b[43m,\u001b[49m\u001b[43m \u001b[49m\u001b[38;5;241;43m*\u001b[39;49m\u001b[38;5;241;43m*\u001b[39;49m\u001b[43mkwargs\u001b[49m\n\u001b[0;32m    771\u001b[0m \u001b[43m    \u001b[49m\u001b[43m)\u001b[49m  \u001b[38;5;66;03m# Calls into the C++ engine to run the backward pass\u001b[39;00m\n\u001b[0;32m    772\u001b[0m \u001b[38;5;28;01mfinally\u001b[39;00m:\n\u001b[0;32m    773\u001b[0m     \u001b[38;5;28;01mif\u001b[39;00m attach_logging_hooks:\n",
      "\u001b[1;31mKeyboardInterrupt\u001b[0m: "
     ]
    }
   ],
   "source": [
    "## Training\n",
    "for epoch in range(EPOCHS):\n",
    "    model.train()\n",
    "    y_logits=model(X_train).to(device)\n",
    "    y_pred=torch.argmax(input=y_logits,dim=1).to(device)\n",
    "    loss = loss_fn(y_logits, Y_train)\n",
    "    acc = accuracy_fn(y_true=Y_train,y_pred=y_pred)\n",
    "    optimizer.zero_grad()\n",
    "    loss.backward()\n",
    "    optimizer.step()\n",
    "\n",
    "    ##Testing\n",
    "\n",
    "    model.eval()\n",
    "    with torch.inference_mode():\n",
    "        test_logits = model(X_test)\n",
    "        test_pred = torch.softmax(test_logits, dim=1).argmax(dim=1).to(device)\n",
    "        test_loss = loss_fn(test_logits,Y_test)\n",
    "        test_acc = accuracy_fn(Y_test,test_pred)\n",
    "    if epoch%10==0:\n",
    "        print(f\"Epoch: {epoch} | Loss: {loss:.5f}, Acc: {acc:.2f}% | Test Loss: {test_loss:.5f}, Test Acc: {test_acc:.2f}%\") \n",
    "    if epoch ==EPOCHS-1:\n",
    "        f1score= F1Score(task=\"multiclass\", num_classes=3).to(device)\n",
    "        f1score.update(y_pred,Y_train)\n",
    "        f1score=f1score.compute()\n",
    "        print(f'\\nFinal F1 Score : {f1score}')"
   ]
  },
  {
   "cell_type": "markdown",
   "metadata": {},
   "source": [
    "Our NN model is pretty good at predicting output. There to be some overfitting as the test accuracy keeps decreasing while train accuracy keeps increasing. With some further hyperparameters tuning and slight modifications to the model, we could probably improve this.\n",
    "The most important factor is probably the amount of features that is too big for such a small number of samples. With more time, we could remedy this by implementing factor selection, such as PCA or RFE.\n"
   ]
  }
 ],
 "metadata": {
  "kernelspec": {
   "display_name": "Python 3",
   "language": "python",
   "name": "python3"
  },
  "language_info": {
   "codemirror_mode": {
    "name": "ipython",
    "version": 3
   },
   "file_extension": ".py",
   "mimetype": "text/x-python",
   "name": "python",
   "nbconvert_exporter": "python",
   "pygments_lexer": "ipython3",
   "version": "3.12.7"
  }
 },
 "nbformat": 4,
 "nbformat_minor": 2
}
