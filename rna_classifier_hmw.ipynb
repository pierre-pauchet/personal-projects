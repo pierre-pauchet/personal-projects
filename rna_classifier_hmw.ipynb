{
 "cells": [
  {
   "cell_type": "markdown",
   "metadata": {},
   "source": [
    "# **RNA Classification Homework - Pierre Pauchet**\n",
    "\n",
    "# Setup"
   ]
  },
  {
   "cell_type": "code",
   "execution_count": 103,
   "metadata": {},
   "outputs": [],
   "source": [
    "## Dependencies\n",
    "import torch \n",
    "import gc\n",
    "import torch.nn as nn\n",
    "import matplotlib.pyplot as plt\n",
    "import numpy as np\n",
    "import pandas as pd\n",
    "from torchmetrics import F1Score\n",
    "from sklearn.ensemble import RandomForestClassifier\n",
    "from sklearn.utils.class_weight import compute_class_weight\n",
    "from sklearn.metrics import accuracy_score, confusion_matrix, precision_score, recall_score, ConfusionMatrixDisplay\n",
    "from scipy.stats import randint\n",
    "from sklearn.tree import export_graphviz\n",
    "from IPython.display import Image\n"
   ]
  },
  {
   "cell_type": "code",
   "execution_count": 104,
   "metadata": {},
   "outputs": [],
   "source": [
    "## Hyperparameters \n",
    "EPOCHS=200\n",
    "HIDDEN_UNITS=150\n",
    "CLASSES=3\n",
    "SEED=55\n",
    "LEARNING_RATE = 1e-3\n",
    "WEIGHT_DECAY = 1e-4"
   ]
  },
  {
   "cell_type": "code",
   "execution_count": 105,
   "metadata": {},
   "outputs": [],
   "source": [
    "## Device agnostic coding \n",
    "device = torch.device('cuda' if torch.cuda.is_available() else 'cpu')"
   ]
  },
  {
   "cell_type": "code",
   "execution_count": 106,
   "metadata": {},
   "outputs": [],
   "source": [
    "## Importing the data from raw files\n",
    "ra_train_data=pd.read_csv(\"ra_train_data.tsv\", sep= \"\\t\")\n",
    "ra_test_data=pd.read_csv(\"ra_test_data.tsv\", sep= \"\\t\")\n",
    "healthy_train_data=pd.read_csv(\"healthy_train_data.tsv\", sep= \"\\t\")\n",
    "healthy_test_data=pd.read_csv(\"healthy_test_data.tsv\", sep= \"\\t\")\n",
    "sle_test_data=pd.read_csv(\"sle_test_data.tsv\", sep= \"\\t\")\n",
    "sle_train_data=pd.read_csv(\"sle_train_data.tsv\", sep= \"\\t\")"
   ]
  },
  {
   "cell_type": "markdown",
   "metadata": {},
   "source": [
    "# Data Processing, cleaning and visualisation"
   ]
  },
  {
   "cell_type": "code",
   "execution_count": 107,
   "metadata": {},
   "outputs": [
    {
     "data": {
      "text/html": [
       "<div>\n",
       "<style scoped>\n",
       "    .dataframe tbody tr th:only-of-type {\n",
       "        vertical-align: middle;\n",
       "    }\n",
       "\n",
       "    .dataframe tbody tr th {\n",
       "        vertical-align: top;\n",
       "    }\n",
       "\n",
       "    .dataframe thead th {\n",
       "        text-align: right;\n",
       "    }\n",
       "</style>\n",
       "<table border=\"1\" class=\"dataframe\">\n",
       "  <thead>\n",
       "    <tr style=\"text-align: right;\">\n",
       "      <th></th>\n",
       "      <th>Unnamed: 0</th>\n",
       "      <th>DDX11L1</th>\n",
       "      <th>WASH7P</th>\n",
       "      <th>MIR6859-1</th>\n",
       "      <th>MIR1302-2HG</th>\n",
       "      <th>MIR1302-2</th>\n",
       "      <th>FAM138A</th>\n",
       "      <th>OR4F5</th>\n",
       "      <th>WASH9P</th>\n",
       "      <th>LOC729737</th>\n",
       "      <th>...</th>\n",
       "      <th>TRNH</th>\n",
       "      <th>TRNS2</th>\n",
       "      <th>TRNL2</th>\n",
       "      <th>ND5</th>\n",
       "      <th>ND6</th>\n",
       "      <th>TRNE</th>\n",
       "      <th>CYTB</th>\n",
       "      <th>TRNT</th>\n",
       "      <th>TRNP</th>\n",
       "      <th>label</th>\n",
       "    </tr>\n",
       "  </thead>\n",
       "  <tbody>\n",
       "    <tr>\n",
       "      <th>0</th>\n",
       "      <td>GSE63755_GSM1556699</td>\n",
       "      <td>0.0</td>\n",
       "      <td>5.085</td>\n",
       "      <td>4.574</td>\n",
       "      <td>0.0</td>\n",
       "      <td>0.0</td>\n",
       "      <td>0.0</td>\n",
       "      <td>0.0</td>\n",
       "      <td>0.0</td>\n",
       "      <td>0.0</td>\n",
       "      <td>...</td>\n",
       "      <td>27.74</td>\n",
       "      <td>38.52</td>\n",
       "      <td>31.00</td>\n",
       "      <td>1016.0</td>\n",
       "      <td>1015.0</td>\n",
       "      <td>606.1</td>\n",
       "      <td>1110.0</td>\n",
       "      <td>64.89</td>\n",
       "      <td>120.30</td>\n",
       "      <td>2</td>\n",
       "    </tr>\n",
       "    <tr>\n",
       "      <th>1</th>\n",
       "      <td>GSE63755_GSM1556700</td>\n",
       "      <td>0.0</td>\n",
       "      <td>5.090</td>\n",
       "      <td>4.004</td>\n",
       "      <td>0.0</td>\n",
       "      <td>0.0</td>\n",
       "      <td>0.0</td>\n",
       "      <td>0.0</td>\n",
       "      <td>0.0</td>\n",
       "      <td>0.0</td>\n",
       "      <td>...</td>\n",
       "      <td>30.16</td>\n",
       "      <td>42.52</td>\n",
       "      <td>29.31</td>\n",
       "      <td>1389.0</td>\n",
       "      <td>1458.0</td>\n",
       "      <td>777.6</td>\n",
       "      <td>1715.0</td>\n",
       "      <td>83.09</td>\n",
       "      <td>135.60</td>\n",
       "      <td>2</td>\n",
       "    </tr>\n",
       "    <tr>\n",
       "      <th>2</th>\n",
       "      <td>GSE63755_GSM1556701</td>\n",
       "      <td>0.0</td>\n",
       "      <td>7.666</td>\n",
       "      <td>4.897</td>\n",
       "      <td>0.0</td>\n",
       "      <td>0.0</td>\n",
       "      <td>0.0</td>\n",
       "      <td>0.0</td>\n",
       "      <td>0.0</td>\n",
       "      <td>0.0</td>\n",
       "      <td>...</td>\n",
       "      <td>33.78</td>\n",
       "      <td>43.61</td>\n",
       "      <td>29.84</td>\n",
       "      <td>524.9</td>\n",
       "      <td>599.5</td>\n",
       "      <td>280.3</td>\n",
       "      <td>808.0</td>\n",
       "      <td>17.89</td>\n",
       "      <td>24.93</td>\n",
       "      <td>2</td>\n",
       "    </tr>\n",
       "    <tr>\n",
       "      <th>3</th>\n",
       "      <td>GSE63755_GSM1556702</td>\n",
       "      <td>0.0</td>\n",
       "      <td>4.574</td>\n",
       "      <td>3.967</td>\n",
       "      <td>0.0</td>\n",
       "      <td>0.0</td>\n",
       "      <td>0.0</td>\n",
       "      <td>0.0</td>\n",
       "      <td>0.0</td>\n",
       "      <td>0.0</td>\n",
       "      <td>...</td>\n",
       "      <td>51.72</td>\n",
       "      <td>68.58</td>\n",
       "      <td>49.68</td>\n",
       "      <td>1703.0</td>\n",
       "      <td>1660.0</td>\n",
       "      <td>946.3</td>\n",
       "      <td>1823.0</td>\n",
       "      <td>109.70</td>\n",
       "      <td>168.40</td>\n",
       "      <td>2</td>\n",
       "    </tr>\n",
       "    <tr>\n",
       "      <th>4</th>\n",
       "      <td>GSE63755_GSM1556703</td>\n",
       "      <td>0.0</td>\n",
       "      <td>6.321</td>\n",
       "      <td>4.730</td>\n",
       "      <td>0.0</td>\n",
       "      <td>0.0</td>\n",
       "      <td>0.0</td>\n",
       "      <td>0.0</td>\n",
       "      <td>0.0</td>\n",
       "      <td>0.0</td>\n",
       "      <td>...</td>\n",
       "      <td>40.86</td>\n",
       "      <td>49.07</td>\n",
       "      <td>35.98</td>\n",
       "      <td>1244.0</td>\n",
       "      <td>1258.0</td>\n",
       "      <td>700.1</td>\n",
       "      <td>1466.0</td>\n",
       "      <td>92.31</td>\n",
       "      <td>160.60</td>\n",
       "      <td>2</td>\n",
       "    </tr>\n",
       "  </tbody>\n",
       "</table>\n",
       "<p>5 rows × 37693 columns</p>\n",
       "</div>"
      ],
      "text/plain": [
       "            Unnamed: 0  DDX11L1  WASH7P  MIR6859-1  MIR1302-2HG  MIR1302-2  \\\n",
       "0  GSE63755_GSM1556699      0.0   5.085      4.574          0.0        0.0   \n",
       "1  GSE63755_GSM1556700      0.0   5.090      4.004          0.0        0.0   \n",
       "2  GSE63755_GSM1556701      0.0   7.666      4.897          0.0        0.0   \n",
       "3  GSE63755_GSM1556702      0.0   4.574      3.967          0.0        0.0   \n",
       "4  GSE63755_GSM1556703      0.0   6.321      4.730          0.0        0.0   \n",
       "\n",
       "   FAM138A  OR4F5  WASH9P  LOC729737  ...   TRNH  TRNS2  TRNL2     ND5  \\\n",
       "0      0.0    0.0     0.0        0.0  ...  27.74  38.52  31.00  1016.0   \n",
       "1      0.0    0.0     0.0        0.0  ...  30.16  42.52  29.31  1389.0   \n",
       "2      0.0    0.0     0.0        0.0  ...  33.78  43.61  29.84   524.9   \n",
       "3      0.0    0.0     0.0        0.0  ...  51.72  68.58  49.68  1703.0   \n",
       "4      0.0    0.0     0.0        0.0  ...  40.86  49.07  35.98  1244.0   \n",
       "\n",
       "      ND6   TRNE    CYTB    TRNT    TRNP  label  \n",
       "0  1015.0  606.1  1110.0   64.89  120.30      2  \n",
       "1  1458.0  777.6  1715.0   83.09  135.60      2  \n",
       "2   599.5  280.3   808.0   17.89   24.93      2  \n",
       "3  1660.0  946.3  1823.0  109.70  168.40      2  \n",
       "4  1258.0  700.1  1466.0   92.31  160.60      2  \n",
       "\n",
       "[5 rows x 37693 columns]"
      ]
     },
     "execution_count": 107,
     "metadata": {},
     "output_type": "execute_result"
    }
   ],
   "source": [
    "# Labelling our data\n",
    "ra_train_data[\"label\"]=1\n",
    "ra_test_data[\"label\"]=1\n",
    "healthy_train_data[\"label\"]=0\n",
    "healthy_test_data[\"label\"]=0\n",
    "sle_train_data[\"label\"]=2\n",
    "sle_test_data[\"label\"]=2\n",
    "sle_train_data.head()"
   ]
  },
  {
   "cell_type": "code",
   "execution_count": 108,
   "metadata": {},
   "outputs": [
    {
     "data": {
      "text/plain": [
       "(1, 1, 1, 1, 1, 1)"
      ]
     },
     "execution_count": 108,
     "metadata": {},
     "output_type": "execute_result"
    }
   ],
   "source": [
    "## Data Preprocessing and visualisation\n",
    "# Scanning for doublons \n",
    "np.max(ra_train_data.iloc[:,0].value_counts()), np.max(ra_test_data.iloc[:,0].value_counts()),np.max(healthy_train_data.iloc[:,0].value_counts()),np.max(healthy_test_data.iloc[:,0].value_counts()),np.max(sle_train_data.iloc[:,0].value_counts()),np.max(sle_test_data.iloc[:,0].value_counts())"
   ]
  },
  {
   "cell_type": "markdown",
   "metadata": {},
   "source": [
    "No doublons remain in the dataframe : all lines correspond to different samples"
   ]
  },
  {
   "cell_type": "code",
   "execution_count": 109,
   "metadata": {},
   "outputs": [
    {
     "name": "stdout",
     "output_type": "stream",
     "text": [
      "Train data | RA :(1587, 37693), Control :(302, 24405), SLE :(1332, 37693)\n",
      "Test data | RA :(330, 37693), Control :(100, 24405), SLE :(465, 37693)\n",
      "\n",
      "Filtered train data | RA :(1587, 24405), Control :(302, 24405), SLE :(1332, 24405)\n"
     ]
    }
   ],
   "source": [
    "# Checking the shapes of the data\n",
    "print(f'Train data | RA :{ra_train_data.shape}, Control :{healthy_train_data.shape}, SLE :{sle_train_data.shape}')\n",
    "print(f'Test data | RA :{ra_test_data.shape}, Control :{healthy_test_data.shape}, SLE :{sle_test_data.shape}')\n",
    "\n",
    "# Filtering on the common features\n",
    "ra_train_data.columns.difference(sle_train_data.columns) # Empty : these datasets are labelled identically\n",
    "inconsistent_features = ra_train_data.columns.difference(healthy_train_data.columns)\n",
    "ra_train_data = ra_train_data.drop(columns=inconsistent_features)\n",
    "ra_test_data = ra_test_data.drop(columns=inconsistent_features)\n",
    "sle_train_data = sle_train_data.drop(columns=inconsistent_features)\n",
    "sle_test_data = sle_test_data.drop(columns=inconsistent_features)\n",
    "print(f'\\nFiltered train data | RA :{ra_train_data.shape}, Control :{healthy_train_data.shape}, SLE :{sle_train_data.shape}')"
   ]
  },
  {
   "cell_type": "markdown",
   "metadata": {},
   "source": [
    "We have a few problems emerging from the data :\\\n",
    "-There are more features in certain classes than in others\\\n",
    "-The number of features (~24000) is way greater than the number of samples (~3000 in the train data) : this is a classic albeit very important problem when it comes to building NN with medical data.\\\n",
    "-The classes aren't balanced (way more sick patients than control)\\\n",
    "-The data is not normalized : there are some columns full of zeros, and some with values reaching across 4 orders of magnitude. \n",
    "   \\\n",
    "First, we will normalize the data, then we will remedy the class imbalance, by allocating weights to classes."
   ]
  },
  {
   "cell_type": "code",
   "execution_count": 112,
   "metadata": {},
   "outputs": [
    {
     "data": {
      "text/plain": [
       "0"
      ]
     },
     "execution_count": 112,
     "metadata": {},
     "output_type": "execute_result"
    }
   ],
   "source": [
    "## Concatenating and shuffling training data\n",
    "all_train_data=pd.concat((ra_train_data,sle_train_data,healthy_train_data),axis=0)\n",
    "all_train_data=all_train_data.sample(frac=1,random_state=SEED)\n",
    "all_train_data.index=np.arange(0,3221,1)\n",
    "\n",
    "all_test_data=pd.concat((ra_test_data,sle_test_data,healthy_test_data),axis=0)\n",
    "all_test_data=all_test_data.sample(frac=1,random_state=SEED)\n",
    "all_test_data.index=np.arange(0,895,1)\n",
    "print(all_train_data.head())\n",
    "gc.collect()"
   ]
  },
  {
   "cell_type": "code",
   "execution_count": 113,
   "metadata": {},
   "outputs": [],
   "source": [
    "# Normalizing Data \n",
    "'First, we will normalize our data with the classic reduction. Notice how we remove the first column containing the sample name and the last column containing the labels'\n",
    "normalized_train_data = (all_train_data.iloc[:,1:-1]-np.mean(all_train_data.iloc[:,1:-1], axis=0))/np.var(all_train_data.iloc[:,1:-1],axis=0) \n",
    "normalized_test_data = (all_test_data.iloc[:,1:-1]-np.mean(all_test_data.iloc[:,1:-1], axis=0))/np.var(all_test_data.iloc[:,1:-1],axis=0)\n",
    "\n",
    "'Some columns full of zeros can bug out the system'\n",
    "normalized_train_data.replace(np.NaN, 0, inplace=True)\n",
    "normalized_test_data.replace(np.NaN, 0, inplace=True)\n",
    "\n",
    "'We add the labels back'\n",
    "normalized_train_data = pd.concat([normalized_train_data,all_train_data.iloc[:,-1]],axis=1)\n",
    "normalized_test_data = pd.concat([normalized_test_data,all_test_data.iloc[:,-1]],axis=1)"
   ]
  },
  {
   "cell_type": "code",
   "execution_count": 114,
   "metadata": {},
   "outputs": [
    {
     "name": "stdout",
     "output_type": "stream",
     "text": [
      "Class weights: {0: 2.9833333333333334, 1: 0.9040404040404041, 2: 0.6415770609318996}\n"
     ]
    }
   ],
   "source": [
    "# Balancing class irregularities\n",
    "class_weights = compute_class_weight('balanced', classes=np.array([0, 1, 2]), y=all_test_data.iloc[:,-1])\n",
    "class_weight_dict = {i: class_weights[i] for i in range(len(class_weights))}\n",
    "print(\"Class weights:\", class_weight_dict)"
   ]
  },
  {
   "cell_type": "code",
   "execution_count": 116,
   "metadata": {},
   "outputs": [],
   "source": [
    "## Moving data to tensors\n",
    "def dataToTensor(df): # Helper function to transform data into tensors stocked on device\n",
    "    '''\n",
    "    moving data to tensor.\n",
    "    params:\n",
    "    -df: pd.Dataframe object\n",
    "    '''\n",
    "    features_tensor=torch.tensor(df.values, dtype=torch.float32, requires_grad=True)\n",
    "    labels_tensor=torch.tensor(df.iloc[:,-1].values, dtype=torch.int32, requires_grad=False).type(torch.LongTensor)\n",
    "    return features_tensor,labels_tensor \n",
    "\n",
    "X_train, Y_train = dataToTensor(normalized_train_data)\n",
    "X_train=X_train.to(device)\n",
    "Y_train= Y_train.to(device)\n",
    "X_test, Y_test = dataToTensor(normalized_test_data)\n",
    "X_test=X_test.to(device)\n",
    "Y_test=Y_test.to(device)"
   ]
  },
  {
   "cell_type": "markdown",
   "metadata": {},
   "source": [
    "# Model designing and training\n",
    "\n",
    "First, we will use a NN to predict diagnoses efficiently. We will then implement a random forest to try to interprete our classified omics data. "
   ]
  },
  {
   "cell_type": "code",
   "execution_count": 117,
   "metadata": {},
   "outputs": [],
   "source": [
    "## Defining our nn model class\n",
    "class ClassificationModel(nn.Module):\n",
    "    def __init__(self,input_features:int,output_features:int):\n",
    "        super().__init__()\n",
    "        self.layers=nn.Sequential(nn.Linear(in_features=input_features,out_features=HIDDEN_UNITS,device=device),\n",
    "                              nn.ReLU(),\n",
    "                              nn.Linear(in_features=HIDDEN_UNITS,out_features=HIDDEN_UNITS,device=device),\n",
    "                              nn.ReLU(),\n",
    "                              nn.Dropout(0.5),\n",
    "                              nn.Linear(in_features=HIDDEN_UNITS,out_features=HIDDEN_UNITS,device=device),\n",
    "                              nn.ReLU(),\n",
    "                              nn.Linear(in_features=HIDDEN_UNITS,out_features=output_features,device=device)\n",
    "                              )\n",
    "    def forward(self,x):\n",
    "        return self.layers(x)   \n",
    "\n",
    "model=ClassificationModel(input_features=len(X_train[1]),output_features=CLASSES).to(device)"
   ]
  },
  {
   "cell_type": "code",
   "execution_count": 118,
   "metadata": {},
   "outputs": [],
   "source": [
    "## Neural Network functions\n",
    "loss_fn=nn.CrossEntropyLoss(weight=torch.tensor(class_weights,dtype=torch.float32).to(device))\n",
    "optimizer=torch.optim.SGD(model.parameters(),LEARNING_RATE,WEIGHT_DECAY)\n",
    "def accuracy_fn(y_true, y_pred): \n",
    "    correct = torch.eq(y_true, y_pred).sum().item()\n",
    "    acc = (correct / len(y_pred)) * 100 \n",
    "    return acc"
   ]
  },
  {
   "cell_type": "code",
   "execution_count": 119,
   "metadata": {},
   "outputs": [
    {
     "name": "stdout",
     "output_type": "stream",
     "text": [
      "Epoch: 0 | Loss: 1.12101, Acc: 44.52% | Test Loss: 1.10517, Test Acc: 30.39%\n",
      "Epoch: 10 | Loss: 1.09406, Acc: 46.01% | Test Loss: 1.10452, Test Acc: 33.18%\n",
      "Epoch: 20 | Loss: 1.07875, Acc: 48.96% | Test Loss: 1.10421, Test Acc: 34.86%\n",
      "Epoch: 30 | Loss: 1.06581, Acc: 50.85% | Test Loss: 1.10393, Test Acc: 36.20%\n",
      "Epoch: 40 | Loss: 1.05348, Acc: 53.00% | Test Loss: 1.10344, Test Acc: 36.98%\n",
      "Epoch: 50 | Loss: 1.03812, Acc: 54.05% | Test Loss: 1.10297, Test Acc: 37.77%\n",
      "Epoch: 60 | Loss: 1.03210, Acc: 55.63% | Test Loss: 1.10240, Test Acc: 37.77%\n",
      "Epoch: 70 | Loss: 1.03031, Acc: 56.81% | Test Loss: 1.10198, Test Acc: 38.21%\n",
      "Epoch: 80 | Loss: 1.01434, Acc: 58.09% | Test Loss: 1.10150, Test Acc: 38.55%\n",
      "Epoch: 90 | Loss: 1.00908, Acc: 59.08% | Test Loss: 1.10109, Test Acc: 38.77%\n",
      "Epoch: 100 | Loss: 1.00005, Acc: 61.07% | Test Loss: 1.10056, Test Acc: 38.88%\n",
      "Epoch: 110 | Loss: 0.99299, Acc: 62.03% | Test Loss: 1.09986, Test Acc: 39.22%\n",
      "Epoch: 120 | Loss: 0.98557, Acc: 62.65% | Test Loss: 1.09885, Test Acc: 39.44%\n",
      "Epoch: 130 | Loss: 0.97827, Acc: 63.15% | Test Loss: 1.09786, Test Acc: 40.00%\n",
      "Epoch: 140 | Loss: 0.96905, Acc: 63.86% | Test Loss: 1.09643, Test Acc: 40.34%\n",
      "Epoch: 150 | Loss: 0.96008, Acc: 63.99% | Test Loss: 1.09533, Test Acc: 40.34%\n",
      "Epoch: 160 | Loss: 0.95345, Acc: 64.86% | Test Loss: 1.09376, Test Acc: 40.34%\n",
      "Epoch: 170 | Loss: 0.94548, Acc: 65.72% | Test Loss: 1.09222, Test Acc: 40.67%\n",
      "Epoch: 180 | Loss: 0.94090, Acc: 66.04% | Test Loss: 1.09049, Test Acc: 41.01%\n",
      "Epoch: 190 | Loss: 0.93392, Acc: 66.41% | Test Loss: 1.08858, Test Acc: 41.01%\n",
      "\n",
      "Final F1 Score : 0.6715306043624878\n"
     ]
    }
   ],
   "source": [
    "## Training\n",
    "\n",
    "for epoch in range(EPOCHS):\n",
    "    model.train()\n",
    "    y_logits=model(X_train).to(device)\n",
    "    y_pred=torch.argmax(input=y_logits,dim=1).to(device)\n",
    "    loss = loss_fn(y_logits, Y_train)\n",
    "    acc = accuracy_fn(y_true=Y_train,y_pred=y_pred)\n",
    "    optimizer.zero_grad()\n",
    "    loss.backward()\n",
    "    optimizer.step()\n",
    "\n",
    "    ##Testing\n",
    "\n",
    "    model.eval()\n",
    "    with torch.inference_mode():\n",
    "        test_logits = model(X_test)\n",
    "        test_pred = torch.softmax(test_logits, dim=1).argmax(dim=1).to(device)\n",
    "        test_loss = loss_fn(test_logits,Y_test)\n",
    "        test_acc = accuracy_fn(Y_test,test_pred)\n",
    "    if epoch%10==0:\n",
    "        print(f\"Epoch: {epoch} | Loss: {loss:.5f}, Acc: {acc:.2f}% | Test Loss: {test_loss:.5f}, Test Acc: {test_acc:.2f}%\") \n",
    "    if epoch ==199:\n",
    "        f1score= F1Score(task=\"multiclass\", num_classes=3).to(device)\n",
    "        f1score.update(y_pred,Y_train)\n",
    "        f1score=f1score.compute()\n",
    "        print(f'\\nFinal F1 Score : {f1score}')"
   ]
  },
  {
   "cell_type": "markdown",
   "metadata": {},
   "source": [
    "Our NN model is pretty bad at predicting output, with a low test accuracy. There to be some overfitting as the test accuracy keeps decreasing while train accuracy keeps increasing. With some further hyperparameters tuning and slight modifications to the model, we could probably improve this.\n",
    "The most important factor is probably the amount of features that is too big for such a small number of samples. With more time, we could remedy this by implementing factor selection, such as PCA or RFE.\n",
    "\n",
    "Now, we will interpret the data using a random forest classifier."
   ]
  },
  {
   "cell_type": "code",
   "execution_count": 120,
   "metadata": {},
   "outputs": [],
   "source": [
    "# Implementing a random forest \n",
    "rf = RandomForestClassifier(max_depth=14,n_estimators=484,class_weight='balanced') # see below for hyperparameter tuning\n",
    "rf.fit(X_train.detach().cpu().numpy(), Y_train.detach().cpu().numpy())\n",
    "y_pred= rf.predict(X_test.detach().cpu().numpy())"
   ]
  },
  {
   "cell_type": "code",
   "execution_count": 121,
   "metadata": {},
   "outputs": [
    {
     "name": "stdout",
     "output_type": "stream",
     "text": [
      "0.7865921787709497\n"
     ]
    },
    {
     "data": {
      "image/png": "[encoded data removed]",
      "text/plain": [
       "<Figure size 640x480 with 2 Axes>"
      ]
     },
     "metadata": {},
     "output_type": "display_data"
    }
   ],
   "source": [
    "# Testing and visualising our random forest\n",
    "print(accuracy_score(Y_test.detach().cpu().numpy(),y_pred))\n",
    "cm = confusion_matrix(Y_test.detach().cpu().numpy(), y_pred)\n",
    "\n",
    "ConfusionMatrixDisplay(confusion_matrix=cm).plot();"
   ]
  },
  {
   "cell_type": "markdown",
   "metadata": {},
   "source": [
    "The accuracy score is pretty good, especially when compared to the previous NN model. This model seems better than our neural network when it comes to classifying healthy patients and patients suffering from RA. Interestingly, the random forest missclassifies some of the 2(RA) dataset as 1 (SLE). This probably has to do with the high amount of features of the dataset"
   ]
  },
  {
   "cell_type": "code",
   "execution_count": 122,
   "metadata": {},
   "outputs": [
    {
     "data": {
      "image/png": "[encoded data removed]",
      "text/plain": [
       "<Figure size 640x480 with 1 Axes>"
      ]
     },
     "metadata": {},
     "output_type": "display_data"
    }
   ],
   "source": [
    "# Create a series containing feature importances from the model and feature names from the training data\n",
    "feature_importances = pd.Series(rf.feature_importances_, index=normalized_train_data.iloc[:,:].columns).sort_values(ascending=False)\n",
    "\n",
    "# Plot a simple bar chart\n",
    "feature_importances[1:10].plot.bar();"
   ]
  },
  {
   "cell_type": "markdown",
   "metadata": {},
   "source": [
    "There does not seem to be a huge outlier in genetic expression. This could be improved through better feature selection at the start."
   ]
  },
  {
   "cell_type": "code",
   "execution_count": 123,
   "metadata": {},
   "outputs": [],
   "source": [
    "# # Hyperparameters tuning \n",
    "# param_dist = {'n_estimators': randint(300,500),\n",
    "#               'max_depth': randint(1,20)}\n",
    "# # Use random search to find the best hyperparameters\n",
    "# rand_search = RandomizedSearchCV(rf, \n",
    "#                                  param_distributions = param_dist, \n",
    "#                                  n_iter=10, \n",
    "#                                  cv=5)\n",
    "\n",
    "# # Fit the random search object to the data\n",
    "# rand_search.fit(X_train.detach().cpu().numpy(), Y_train.detach().cpu().numpy())\n",
    "# # Create a variable for the best model\n",
    "# best_rf = rand_search.best_estimator_\n",
    "\n",
    "# # Print the best hyperparameters\n",
    "# print('Best hyperparameters:',  rand_search.best_params_)\n",
    "\n"
   ]
  },
  {
   "cell_type": "markdown",
   "metadata": {},
   "source": [
    "I ran this and got \"Best hyperparameters: {'max_depth': 14, 'n_estimators': 484}\". The computational time is quite long, and it could be improved further. "
   ]
  }
 ],
 "metadata": {
  "kernelspec": {
   "display_name": "Python 3",
   "language": "python",
   "name": "python3"
  },
  "language_info": {
   "codemirror_mode": {
    "name": "ipython",
    "version": 3
   },
   "file_extension": ".py",
   "mimetype": "text/x-python",
   "name": "python",
   "nbconvert_exporter": "python",
   "pygments_lexer": "ipython3",
   "version": "3.12.7"
  }
 },
 "nbformat": 4,
 "nbformat_minor": 2
}
